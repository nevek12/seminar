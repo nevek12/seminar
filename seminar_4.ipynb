{
 "cells": [
  {
   "cell_type": "code",
   "execution_count": 6,
   "id": "f9fdb05a",
   "metadata": {},
   "outputs": [
    {
     "name": "stdout",
     "output_type": "stream",
     "text": [
      "введите строкуiktsrdftgh,\n",
      "введите строкуkyftg\n",
      "ktftg\n"
     ]
    }
   ],
   "source": [
    "stroka1 = input(\"введите строку\")\n",
    "stroka2 = input(\"введите строку\")\n",
    "v = ''\n",
    "for i in range(len(stroka1)):\n",
    "    if stroka2.find(stroka1[i]) != -1:\n",
    "        v += stroka1[i]\n",
    "        \n",
    "print(v)"
   ]
  },
  {
   "cell_type": "code",
   "execution_count": 8,
   "id": "c9d27b1e",
   "metadata": {},
   "outputs": [
    {
     "name": "stdout",
     "output_type": "stream",
     "text": [
      "введите число7 \n",
      "105\n"
     ]
    }
   ],
   "source": [
    "i = 1\n",
    "n = 1\n",
    "k = int(input('введите число'))\n",
    "while i <= k:\n",
    "    n *= i\n",
    "    i += 2\n",
    "print(n)"
   ]
  },
  {
   "cell_type": "code",
   "execution_count": 9,
   "id": "cc22ebfe",
   "metadata": {},
   "outputs": [
    {
     "name": "stdout",
     "output_type": "stream",
     "text": [
      "введите число7\n",
      "105\n"
     ]
    }
   ],
   "source": [
    "\n",
    "n = 1\n",
    "k = int(input('введите число'))\n",
    "for i in range(1, k+1, 2):\n",
    "    n *= i\n",
    "print(n)"
   ]
  },
  {
   "cell_type": "code",
   "execution_count": 11,
   "id": "42d70083",
   "metadata": {},
   "outputs": [
    {
     "name": "stdout",
     "output_type": "stream",
     "text": [
      "начало интервала2\n",
      "конец интервала(невключительно)10\n",
      "2\n",
      "3\n",
      "5\n",
      "7\n"
     ]
    }
   ],
   "source": [
    "a = int(input('начало интервала'))\n",
    "b = int(input('конец интервала(невключительно)'))\n",
    "for i in range(a, b):\n",
    "    for j in range(2, int(i**(1/2))+1):\n",
    "        if i % j == 0:\n",
    "            break\n",
    "    else:\n",
    "        print(i)"
   ]
  },
  {
   "cell_type": "code",
   "execution_count": 15,
   "id": "f203e05f",
   "metadata": {},
   "outputs": [
    {
     "name": "stdout",
     "output_type": "stream",
     "text": [
      "введите строкуrjyfh\n",
      "____________rjyfh_____________\n"
     ]
    }
   ],
   "source": [
    "stroka = input('введите строку')\n",
    "while stroka == \"\":\n",
    "    stroka = input('введите не пустую строку')\n",
    "if stroka == 'STOP':\n",
    "    print(\"Program interrupted by user\")\n",
    "while ord(stroka[0]) < ord('A'):\n",
    "    print(\"Too early in the dictionary. Try again!\")\n",
    "    stroka = input('введите другую строку')\n",
    "else:\n",
    "    print(f'{stroka:_^30}')"
   ]
  },
  {
   "cell_type": "code",
   "execution_count": 19,
   "id": "004de564",
   "metadata": {},
   "outputs": [
    {
     "name": "stdout",
     "output_type": "stream",
     "text": [
      "введите строкуHello world!\n",
      "Hell !\n"
     ]
    }
   ],
   "source": [
    "stroka = input('введите строку')\n",
    "v = ''\n",
    "for i in range(1, len(stroka)+1):\n",
    "    if len(stroka) % i == 0:\n",
    "        v += stroka[i-1]\n",
    "print(v)"
   ]
  },
  {
   "cell_type": "code",
   "execution_count": null,
   "id": "771f5454",
   "metadata": {},
   "outputs": [],
   "source": [
    "stroka1= input('введите строку').lower()\n",
    "stroka2= input('введите строку').lower()\n",
    "k = 0\n",
    "for i in stroka1:\n",
    "    k+=1\n",
    "    for j in stroka2:\n",
    "        if i == j:\n",
    "            print(f\"{k} встречается в строке поиска: {stroka2.replace(j, j.upper(), 1)}\")\n",
    "    "
   ]
  },
  {
   "cell_type": "code",
   "execution_count": null,
   "id": "2ceb1fd8",
   "metadata": {},
   "outputs": [],
   "source": [
    "\n"
   ]
  },
  {
   "cell_type": "code",
   "execution_count": null,
   "id": "97614dfb",
   "metadata": {},
   "outputs": [],
   "source": []
  }
 ],
 "metadata": {
  "kernelspec": {
   "display_name": "Python 3 (ipykernel)",
   "language": "python",
   "name": "python3"
  },
  "language_info": {
   "codemirror_mode": {
    "name": "ipython",
    "version": 3
   },
   "file_extension": ".py",
   "mimetype": "text/x-python",
   "name": "python",
   "nbconvert_exporter": "python",
   "pygments_lexer": "ipython3",
   "version": "3.11.4"
  }
 },
 "nbformat": 4,
 "nbformat_minor": 5
}
