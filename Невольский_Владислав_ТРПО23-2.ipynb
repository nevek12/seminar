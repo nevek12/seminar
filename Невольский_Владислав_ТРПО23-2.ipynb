{
 "cells": [
  {
   "cell_type": "markdown",
   "metadata": {},
   "source": [
    "### Контрольная работа № 1.\n",
    "### Вариант 2.\n",
    "#### Студент __Невольский Владислав________________________ группа ______TRPO23-2_________"
   ]
  },
  {
   "cell_type": "markdown",
   "metadata": {},
   "source": [
    "1. Напишите программу, которая выполняет добавление, удаление и вывод на экран элементов списка при помощи классов. \n",
    "\n",
    "Решение задачи\n",
    "\n",
    "1.\tСоздаем класс и с помощью конструктора инициализируем значения этого класса.\n",
    "2.\tСоздаем в данном классе методы для добавления, удаления и вывода на экран соответствующих значений.\n",
    "3.\tСоздаем объект данного класса.\n",
    "4.\tИспользуя созданный объект, вызываем соответствующий метод (в зависимости от выбора пользователя).\n",
    "5.\tВыводим результат на экран.\n",
    "6.\tКонец.\n",
    "\n",
    "В программе реализовать выбор с помощью меню:\n",
    "\n",
    "print(\"0. Выход\")\n",
    "\n",
    "print(\"1. Добавить\")\n",
    "\n",
    "print(\"2. Удалить\")\n",
    "\n",
    "print(\"3. Вывести на экран\")\n",
    "\n",
    "choice = int(input(\"Выберите одно из этих значений: \"))\n",
    "\n"
   ]
  },
  {
   "cell_type": "code",
   "execution_count": 3,
   "metadata": {},
   "outputs": [
    {
     "name": "stdout",
     "output_type": "stream",
     "text": [
      "0. Выход\n",
      "1. Добавить\n",
      "2. Удалить\n",
      "3. Вывести на экран\n",
      "Выберите одно из этих значений: 1\n",
      "Введите значение23\n",
      "Выберите одно из этих значений: 3\n",
      "['23']\n",
      "Выберите одно из этих значений: 2\n",
      "Введите значение23\n",
      "Выберите одно из этих значений: 3\n",
      "[]\n",
      "Выберите одно из этих значений: 0\n"
     ]
    }
   ],
   "source": [
    "# Решение 1.\n",
    "class Myclass:\n",
    "    def __init__(self, listt):\n",
    "        self.listt = listt\n",
    "    def __str__(self):\n",
    "        return str(self.listt)\n",
    "    def appendd(self, value):\n",
    "        self.listt.append(value)\n",
    "    def delete(self, el):\n",
    "        self.listt.remove(el)\n",
    "    \n",
    "print(\"0. Выход\")\n",
    "\n",
    "print(\"1. Добавить\")\n",
    "\n",
    "print(\"2. Удалить\")\n",
    "\n",
    "print(\"3. Вывести на экран\")\n",
    "a = Myclass([])\n",
    "while True:\n",
    "    choice = int(input(\"Выберите одно из этих значений: \"))\n",
    "    if choice == 0:\n",
    "        break\n",
    "    elif choice == 1:\n",
    "        a.appendd(input('Введите значение'))\n",
    "    elif choice == 2:\n",
    "        a.delete(input('Введите значение'))\n",
    "    elif choice ==3:\n",
    "        print(a)"
   ]
  },
  {
   "cell_type": "markdown",
   "metadata": {},
   "source": [
    "2. Используя класс People в качестве базового, создайте класс Сотрудник (Worker), имеющий свойства:\n",
    "\n",
    "• должность (post)\n",
    "\n",
    "• зарплата (salary)\n",
    "\n",
    "методы:\n",
    "\n",
    "• __init__ – конструктор;\n",
    "\n",
    "• __str__ – аналогично методу класса Teacher из примера.\n",
    "\n",
    "Используя класс Сотрудник в качестве базового создайте класс Преподаватель (Teacher), имеющий:\n",
    "\n",
    "• закрытый атрибут дисциплины (disciplines), в котором хранятся названия дисциплин, которые ведет преподаватель;\n",
    "\n",
    "• методы __init__ и __str__;\n",
    "\n",
    "• методы добавить_дисциплину (add_dis) и удалить_дисциплину (delete_dis), которые позволяют изменять список дисциплин.\n",
    "\n",
    "Создайте список, содержащий по 2 объекта каждого класса (People, Worker, Teacher). Для этого списка:\n",
    "\n",
    "• выведите информацию о каждом человеке с помощью метода info;\n",
    "\n",
    "• выведите фамилии тех, кто моложе 30 лет;\n",
    "\n",
    "• продемонстрируйте работу со свойствами должность и зарплата и методами добавить_дисциплину и удалить_дисциплину.\n"
   ]
  },
  {
   "cell_type": "code",
   "execution_count": 14,
   "metadata": {},
   "outputs": [
    {
     "name": "stdout",
     "output_type": "stream",
     "text": [
      "возраст {self.age}, фамилия {self.lastname}, Должность {self.post} Зарплата {self.salary}, дисциплина {self.disciplines}\n",
      "возраст {self.age}, фамилия {self.lastname}, Должность {self.post} Зарплата {self.salary}, дисциплина {self.disciplines}\n",
      "возраст {self.age}, фамилия {self.lastname}, Должность {self.post} Зарплата {self.salary} \n",
      "возраст {self.age}, фамилия {self.lastname}, Должность {self.post} Зарплата {self.salary} \n",
      "возраст {self.age} фамилия {self.lastname}\n",
      "возраст {self.age} фамилия {self.lastname}\n",
      "фамилии тех, кто моложе 30 лет\n",
      "Batr\n"
     ]
    }
   ],
   "source": [
    "# Решение 2.\n",
    "class People:\n",
    "    def __init__(self, age, lastname):\n",
    "        self.age = age\n",
    "        self.lastname = lastname\n",
    "    def info(self):\n",
    "        return 'возраст {self.age} фамилия {self.lastname}'\n",
    "class Worker(People):\n",
    "    def __init__(self, post, salary):\n",
    "        self.post = post\n",
    "        self.salary = salary\n",
    "    def info(self):\n",
    "        return 'возраст {self.age}, фамилия {self.lastname}, Должность {self.post} Зарплата {self.salary} '\n",
    "    def __str__(self):\n",
    "        return f'Должность {self.post} Зарплата {self.salary}'\n",
    "class Teacher:\n",
    "    def __init__(self, disciplines):\n",
    "        self.__disciplines = disciplines\n",
    "    def add_dis(self, dis):\n",
    "        self.__disciplines.append(dis)\n",
    "    def delete_dis(self, dis):\n",
    "        self.__disciplines.remove(dis)\n",
    "    def __str__(self):\n",
    "        return f'дисциплина {self.disciplines}'\n",
    "    def info(self):\n",
    "        return 'возраст {self.age}, фамилия {self.lastname}, Должность {self.post} Зарплата {self.salary}, дисциплина {self.disciplines}'\n",
    "lsst = []\n",
    "teacher_1 = Teacher(['finance'])\n",
    "teacher_1.age = 33\n",
    "teacher_1.lastname = 'Ivanov'\n",
    "teacher_1.post = 'teacher'\n",
    "teacher_1.salary = '300$' \n",
    "lsst.append(teacher_1)\n",
    "teacher_2 = Teacher(['menedgment'])\n",
    "teacher_2.age = 35\n",
    "teacher_2.lastname = 'Ivanova'\n",
    "teacher_2.post = 'programer'\n",
    "teacher_2.salary = '500$' \n",
    "lsst.append(teacher_2)\n",
    "worker_1 = Worker('programer', '500$')\n",
    "worker_1.age = 64\n",
    "worker_1.lastname = 'Tibhar'\n",
    "lsst.append(worker_1)\n",
    "worker_2 = Worker('programer', '500$')\n",
    "worker_2.age = 64\n",
    "worker_2.lastname = 'Tor'\n",
    "lsst.append(worker_2)\n",
    "people_1 = People(57, 'Batr')\n",
    "lsst.append(people_1)\n",
    "people_2 = People(23, 'Batr')\n",
    "lsst.append(people_2)\n",
    "for i in lsst:\n",
    "    print(i.info())\n",
    "print('фамилии тех, кто моложе 30 лет')\n",
    "for i in lsst:\n",
    "    if i.age < 30:\n",
    "        print(i.lastname)\n",
    "teacher_1.add_dis('menedgment')\n",
    "\n",
    "teacher_1.delete_dis('menedgment')"
   ]
  },
  {
   "cell_type": "markdown",
   "metadata": {},
   "source": [
    "3.Создайте класс Заказ(Order), у которого есть свойства кодтовара(code), цена(price), количество(count) и методы _init и str.\n",
    "\n",
    "Создайте 2 класса-потомка: Опт(Opt) и Розница(Retail). В этих классах создайте методы init, str.и сумма_заказа(summa), позволяющий узнать стоимость заказа. Для опта стоимость единицы товара составляет 95% от цены, а при покупке более 500 штук – 90% цены. В розницу стоимость единицы товара составляет 100% цены. Стоимость заказа равна произведению цены на количество.\n",
    "\n",
    "Продемонстрируйте работу с классами, создав необходимые объекты и обратившись к их свойствам и методам"
   ]
  },
  {
   "cell_type": "code",
   "execution_count": 30,
   "metadata": {},
   "outputs": [
    {
     "name": "stdout",
     "output_type": "stream",
     "text": [
      "234, 30, 2\n",
      "60\n",
      "234, 27.0, 501\n",
      "13527.0\n"
     ]
    }
   ],
   "source": [
    "# Решение 3.\n",
    "class Order:\n",
    "    def __init__(self, code, price, count):\n",
    "        self.code = code\n",
    "        self.price = price\n",
    "        self.count = count\n",
    "    def __str__(self):\n",
    "        return f'{self.code}, {self.price}, {self.count}'\n",
    "class Opt(Order):\n",
    "    def __init__(self, name, count, price):\n",
    "        self.name = name\n",
    "        \n",
    "        if count > 500:\n",
    "            self.price = price * 0.90\n",
    "        else:\n",
    "            self.price = price * 0.95\n",
    "        self.count = count\n",
    "    def sum_order(self):\n",
    "        return self.count * self.price\n",
    "class Retail(Order):\n",
    "    def __init__(self, name):\n",
    "        self.name = name\n",
    "    def sum_order(self):\n",
    "        return self.count * self.price\n",
    "\n",
    "a = Retail('candy')\n",
    "a.code = 234\n",
    "a.price = 30\n",
    "a.count = 2\n",
    "print(a)\n",
    "print(a.sum_order())\n",
    "b = Opt('candy', 501, 30)\n",
    "b.code = 234\n",
    "\n",
    "print(b)\n",
    "print(b.sum_order())"
   ]
  },
  {
   "cell_type": "markdown",
   "metadata": {},
   "source": [
    "4.Написать функцию-генератор my_func_2(lst), которая принимает объект, поддерживающий итерации с произвольным уровнем вложенности, и возвращает все элементы по одному."
   ]
  },
  {
   "cell_type": "code",
   "execution_count": null,
   "metadata": {},
   "outputs": [],
   "source": [
    "# Решение 4.\n",
    "def my_func_2(lst):\n",
    "    if isinstance(lst, (list, tuple, set)):\n",
    "        for item in lst:\n",
    "            yield from my_func_2(item)\n",
    "    else:\n",
    "        yield lst"
   ]
  },
  {
   "cell_type": "markdown",
   "metadata": {},
   "source": [
    "5.С помощью механизма map/filter/reduce (хотя бы одна из этих функций должна быть использована в решении) посчитать в тексте количество слов, состоящих не менее, чем из 3-х букв. Слова в тексте разделены пробелами. Написать реализацию в одну строку. Оформить решение в виде функции my_func_3(text), т.е. шаблон таков:\n",
    "\n",
    "строка с import, если необходимо def my_func_3(text): return # однострочная реализация задания"
   ]
  },
  {
   "cell_type": "code",
   "execution_count": 31,
   "metadata": {},
   "outputs": [
    {
     "data": {
      "text/plain": [
       "4"
      ]
     },
     "execution_count": 31,
     "metadata": {},
     "output_type": "execute_result"
    }
   ],
   "source": [
    "# Решение 5.\n",
    "def my_func_3(text):\n",
    "    return len([i for i in filter(lambda x: len(x) >= 3, text.split(' '))])\n",
    "my_func_3('Что-то там как-то там я')"
   ]
  },
  {
   "cell_type": "markdown",
   "metadata": {},
   "source": [
    "6. Написать декоратор с параметром my_decorator(n). Декоратор превращает функцию, возвращающую поддерживающий итерации объект (далее \"последовательность\"), в функцию-генератор. Если декорируемая функция возвращает что-то другое, а не последовательность, то декоратор должен вернуть этот результат вызова функции без изменений.\n",
    "\n",
    "Проверку объекта можно организовать при помощи условия import collections if isinstance(item, collections.Iterable)\n",
    "\n",
    "Параметром декоратора может быть целое положительное число n, тогда получившаяся функция-декоратор должна генерировать по одному значению из последовательности, повторенной n раз. Также параметр может принимать строковое значение 'inf', тогда функция-декоратор генерирует по одному значению из последовательности, повторенной бесконечное число раз (зацикливает генерирование результата).\n",
    "\n",
    "Подсказка: сначала реализовать случай со значением аргумента 'inf', а затем модифицировать для целочисленного значения аргумента."
   ]
  },
  {
   "cell_type": "code",
   "execution_count": null,
   "metadata": {},
   "outputs": [],
   "source": [
    "# Решение 6."
   ]
  }
 ],
 "metadata": {
  "kernelspec": {
   "display_name": "Python 3 (ipykernel)",
   "language": "python",
   "name": "python3"
  },
  "language_info": {
   "codemirror_mode": {
    "name": "ipython",
    "version": 3
   },
   "file_extension": ".py",
   "mimetype": "text/x-python",
   "name": "python",
   "nbconvert_exporter": "python",
   "pygments_lexer": "ipython3",
   "version": "3.10.9"
  }
 },
 "nbformat": 4,
 "nbformat_minor": 4
}
