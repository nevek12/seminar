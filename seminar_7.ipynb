{
 "cells": [
  {
   "cell_type": "code",
   "execution_count": 2,
   "id": "d350ed62",
   "metadata": {},
   "outputs": [],
   "source": [
    "# 1\n",
    "stroc = 'abcdef'\n",
    "dictionary = {stroc[i]: i for i in range(len(stroc))}"
   ]
  },
  {
   "cell_type": "code",
   "execution_count": 7,
   "id": "df65ead7",
   "metadata": {},
   "outputs": [
    {
     "name": "stdout",
     "output_type": "stream",
     "text": [
      "0\n"
     ]
    }
   ],
   "source": [
    "# 2\n",
    "ls = []\n",
    "dic = {}\n",
    "k = 0\n",
    "for i, v in iter(dic):\n",
    "    if i in ls or v in ls:\n",
    "        k += 1\n",
    "print(k)"
   ]
  },
  {
   "cell_type": "code",
   "execution_count": 8,
   "id": "073fce56",
   "metadata": {},
   "outputs": [
    {
     "name": "stdout",
     "output_type": "stream",
     "text": [
      "{'d': 3, 'f': 3, 's': 2, 'h': 2, 'j': 2, 'a': 2, 'k': 2, 'u': 2, 'g': 1, 'l': 1, 'n': 1, 'q': 1, 'e': 1, 'w': 1}\n"
     ]
    }
   ],
   "source": [
    "# 3\n",
    "from collections import Counter\n",
    "evgene_o = 'sdfhjgsdajdklnaufhkuqewf'\n",
    "v = {k: l for k, l in iter(Counter(evgene_o).most_common())}\n",
    "print(v)"
   ]
  },
  {
   "cell_type": "code",
   "execution_count": 14,
   "id": "c30786f4",
   "metadata": {},
   "outputs": [
    {
     "name": "stdout",
     "output_type": "stream",
     "text": [
      "24\n"
     ]
    }
   ],
   "source": [
    "# 4\n",
    "from collections import Counter\n",
    "evgene_o = 'sdfhjgsdajdklnaufhkuqewf'\n",
    "v = {k: l for k, l in iter(Counter(evgene_o).most_common())}\n",
    "countk = 0\n",
    "for i, k in v.items():\n",
    "    if ord('a') <= ord(i) <= ord('z'):\n",
    "        countk += k\n",
    "print(countk)\n",
    " "
   ]
  },
  {
   "cell_type": "code",
   "execution_count": 17,
   "id": "ff17be57",
   "metadata": {},
   "outputs": [
    {
     "name": "stdout",
     "output_type": "stream",
     "text": [
      "{'a': 2, 'w': 4, 'f': 3}\n"
     ]
    }
   ],
   "source": [
    "# 5 \n",
    "dic1 = {'a': 2}\n",
    "dic2 = {'w': 4}\n",
    "dic3 = {'f': 3}\n",
    "dic4 = dict(list(dic1.items()) + list(dic2.items()) + list(dic3.items()))\n",
    "print(dic4)"
   ]
  },
  {
   "cell_type": "code",
   "execution_count": 18,
   "id": "7ece859b",
   "metadata": {},
   "outputs": [
    {
     "name": "stdout",
     "output_type": "stream",
     "text": [
      "9\n"
     ]
    }
   ],
   "source": [
    "# 6\n",
    "print(sum([k for i, k in dic4.items()]))"
   ]
  },
  {
   "cell_type": "code",
   "execution_count": 20,
   "id": "97790c94",
   "metadata": {},
   "outputs": [
    {
     "name": "stdout",
     "output_type": "stream",
     "text": [
      "24\n"
     ]
    }
   ],
   "source": [
    "# 7\n",
    "import numpy as np\n",
    "print(np.prod([k for i, k in dic4.items()]))"
   ]
  },
  {
   "cell_type": "code",
   "execution_count": 23,
   "id": "49625f53",
   "metadata": {},
   "outputs": [
    {
     "name": "stdout",
     "output_type": "stream",
     "text": [
      "249259095111204102713\n"
     ]
    }
   ],
   "source": [
    "# 8 \n",
    "from random import randint\n",
    "dic4 = {randint(1, 10**10): randint(1, 10**10) for i in range(10)}\n",
    "print(sum([k * i for i, k in dic4.items()]))"
   ]
  },
  {
   "cell_type": "code",
   "execution_count": 25,
   "id": "0bca82fa",
   "metadata": {},
   "outputs": [
    {
     "name": "stdout",
     "output_type": "stream",
     "text": [
      "{'asd': 6, 'trew': 45}\n"
     ]
    }
   ],
   "source": [
    "# 9\n",
    "dic5 = {'sg': 4,\n",
    "        'ad': 5,\n",
    "        'adf': 56}\n",
    "\n",
    "dic6 = {'sg': 4,\n",
    "        'ad': 5,\n",
    "        'asd': 6,\n",
    "        'trew': 45}\n",
    "dic7 = {i: k for i, k in dic6.items() if i not in dic5.keys() and k not in dic5.values()}\n",
    "print(dic7)"
   ]
  },
  {
   "cell_type": "code",
   "execution_count": 29,
   "id": "19c86ab1",
   "metadata": {},
   "outputs": [],
   "source": [
    "# 10\n",
    "dict8 = dict(list(dic5.items()) + list(dic7.items()))"
   ]
  },
  {
   "cell_type": "code",
   "execution_count": 31,
   "id": "0bab1e80",
   "metadata": {},
   "outputs": [
    {
     "name": "stdout",
     "output_type": "stream",
     "text": [
      "[3, 4, 5, 7, 34, 45, 53, 6654]\n"
     ]
    }
   ],
   "source": [
    "# 11\n",
    "ri1 = [3, 4, 6654, 7, 45, 4, 5, 3, 34, 53, 5]\n",
    "newri1 = set(ri1)\n",
    "print(sorted(newri1))"
   ]
  },
  {
   "cell_type": "code",
   "execution_count": 1,
   "id": "1b34270b",
   "metadata": {},
   "outputs": [
    {
     "name": "stdout",
     "output_type": "stream",
     "text": [
      "[1, 2, 3, 4, 5, 6, 7, 9, 2]\n"
     ]
    }
   ],
   "source": [
    "# 11.2 \n",
    "lsls = [[1, 2, 3], [4, 5, 6, 7], [9, 2]] \n",
    "v = []\n",
    "for i in lsls:\n",
    "    v.extend(i)\n",
    "print(v)"
   ]
  },
  {
   "cell_type": "code",
   "execution_count": 3,
   "id": "a3ef4af1",
   "metadata": {},
   "outputs": [
    {
     "name": "stdout",
     "output_type": "stream",
     "text": [
      "{'d': 7, 'g': 7, 's': 6, 'f': 6, 'h': 6, 'l': 5, 'u': 5}\n"
     ]
    }
   ],
   "source": [
    "# 11.3\n",
    "from collections import Counter\n",
    "evgene_o = 'sdfhjgsdajdklnaufhkuqewfreghlsdfjshwgrjslhordfuiodghlsgluguofgd'\n",
    "v = {k: l for k, l in iter(Counter(evgene_o).most_common()) if l >= 5}\n",
    "print(v)\n"
   ]
  },
  {
   "cell_type": "code",
   "execution_count": 6,
   "id": "199f77b8",
   "metadata": {},
   "outputs": [
    {
     "name": "stdout",
     "output_type": "stream",
     "text": [
      "1\n",
      "2\n",
      "3\n",
      "4\n",
      "5\n",
      "1 2 3 4 5\n"
     ]
    }
   ],
   "source": [
    "# 4.12\n",
    "i = 0\n",
    "v = []\n",
    "while i < 5:\n",
    "    i += 1\n",
    "    answer = input()\n",
    "    while answer in v:\n",
    "        answer = input()\n",
    "    v.append(answer)\n",
    "print(*v)"
   ]
  },
  {
   "cell_type": "code",
   "execution_count": null,
   "id": "f2bd42a1",
   "metadata": {},
   "outputs": [],
   "source": []
  }
 ],
 "metadata": {
  "kernelspec": {
   "display_name": "Python 3 (ipykernel)",
   "language": "python",
   "name": "python3"
  },
  "language_info": {
   "codemirror_mode": {
    "name": "ipython",
    "version": 3
   },
   "file_extension": ".py",
   "mimetype": "text/x-python",
   "name": "python",
   "nbconvert_exporter": "python",
   "pygments_lexer": "ipython3",
   "version": "3.11.4"
  }
 },
 "nbformat": 4,
 "nbformat_minor": 5
}
